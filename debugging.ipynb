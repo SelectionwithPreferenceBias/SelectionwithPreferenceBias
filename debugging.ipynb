{
 "cells": [
  {
   "cell_type": "code",
   "execution_count": 2,
   "metadata": {},
   "outputs": [],
   "source": [
    "import numpy as np\n",
    "import top_k_mallows.mallows_kendall as mk\n",
    "import \n",
    "import scipy as sp\n",
    "import pandas as pd"
   ]
  },
  {
   "cell_type": "code",
   "execution_count": 31,
   "metadata": {},
   "outputs": [
    {
     "data": {
      "text/plain": [
       "array([2, 3, 1, 4, 0])"
      ]
     },
     "execution_count": 31,
     "metadata": {},
     "output_type": "execute_result"
    }
   ],
   "source": [
    "# mk.sample(m = 10, n = 4, phi = 0.999, s0 = [0, 1, 3, 2])\n",
    "mk.sample_at_dist(n=5, dist=10, sigma0=[2, 1, 3, 0, 4])"
   ]
  },
  {
   "cell_type": "code",
   "execution_count": null,
   "metadata": {},
   "outputs": [],
   "source": [
    "import pylab\n",
    "fig = pylab.figure()\n",
    "figlegend = pylab.figure(figsize=(3,2))\n",
    "ax = fig.add_subplot(111)\n",
    "lines = ax.plot(range(10), pylab.randn(10), range(10), pylab.randn(10))\n",
    "figlegend.legend(lines, ('one', 'two'), 'center')\n",
    "fig.show()\n",
    "figlegend.show()\n",
    "figlegend.savefig('legend.png')"
   ]
  },
  {
   "cell_type": "code",
   "execution_count": 10,
   "metadata": {},
   "outputs": [
    {
     "name": "stdout",
     "output_type": "stream",
     "text": [
      "[4, 0, 2, 3, 1]\n",
      "[0 4 2 1 3]\n"
     ]
    }
   ],
   "source": [
    "import top_k_mallows.mallows_kendall as mk\n",
    "from kendall_tau_helpers import *\n",
    "\n",
    "rhoA = [4, 0, 2, 3, 1] # [0, 1, 2, 3, 4] \n",
    "rhoB = random_perm_at_dist(rhoA, 10)\n",
    "\n",
    "print(rhoA)\n",
    "print(rhoB)"
   ]
  },
  {
   "cell_type": "code",
   "execution_count": 50,
   "metadata": {},
   "outputs": [
    {
     "name": "stdout",
     "output_type": "stream",
     "text": [
      "[0.39793443 0.4299691  0.28983367 0.6575576  1.7414462  1.25137471\n",
      " 0.36387873 0.03188609 0.35085014 2.66519269]\n",
      "[0.05648058 0.04997318 0.54381225 1.16999539 1.22825016 0.29540006\n",
      " 0.57923707 0.30857547 0.58361382 1.32195258]\n",
      "[0.42617472 0.45495569 0.56173979 1.24255529 2.35557128 1.39907474\n",
      " 0.65349727 0.18617383 0.64265705 3.32616898]\n"
     ]
    }
   ],
   "source": [
    "from scipy.stats import truncnorm\n",
    "\n",
    "utils_norm = truncnorm.rvs(a = 0, b = np.inf, size = 10)\n",
    "\n",
    "print(utils_norm)\n",
    "\n",
    "noise_norm = truncnorm.rvs(a=0, b=np.inf, size = len(utils_norm))\n",
    "\n",
    "print(noise_norm)\n",
    "\n",
    "param = 0.5\n",
    "\n",
    "noise_norm = noise_norm * param\n",
    "\n",
    "utils_norm = np.add(utils_norm, noise_norm)\n",
    "\n",
    "print(utils_norm)\n",
    "\n",
    "# utils_norm + noise_norm * param\n",
    "\n",
    "# noisenorm = "
   ]
  },
  {
   "cell_type": "code",
   "execution_count": 27,
   "metadata": {},
   "outputs": [
    {
     "name": "stdout",
     "output_type": "stream",
     "text": [
      "Difference for beta = 0.0: 0.07916877035402031\n",
      "Difference for beta = 0.04: 0.05766812609212477\n",
      "Difference for beta = 0.08: 0.03750163877791013\n",
      "Difference for beta = 0.12: 0.022902722721947183\n",
      "Difference for beta = 0.16: 0.014545340437782439\n",
      "Difference for beta = 0.2: 0.009094521488281049\n",
      "Difference for beta = 0.24: -0.0010729341270676873\n",
      "Difference for beta = 0.28: 0.0044708184694030595\n",
      "Difference for beta = 0.32: 0.0006769306247335072\n",
      "Difference for beta = 0.36: -0.004207943406565329\n",
      "Difference for beta = 0.4: -0.002676145015964748\n",
      "Difference for beta = 0.44: 0.004582084865601466\n",
      "Difference for beta = 0.48: 0.0015833649234756608\n",
      "Difference for beta = 0.52: -0.0019808427963480257\n",
      "Difference for beta = 0.56: -0.00264044759819837\n",
      "Difference for beta = 0.6: -0.0017400085954475397\n",
      "Difference for beta = 0.64: -0.003252644234945423\n",
      "Difference for beta = 0.68: 0.0014048092964686898\n",
      "Difference for beta = 0.72: -0.0012716486876653832\n",
      "Difference for beta = 0.76: 0.00014771431923532585\n",
      "Difference for beta = 0.8: -0.010615911104175257\n",
      "Difference for beta = 0.84: -0.014205679784866865\n",
      "Difference for beta = 0.88: -0.022292184040422325\n",
      "Difference for beta = 0.92: -0.03282647400544392\n",
      "Difference for beta = 0.96: -0.05436980815415149\n",
      "Difference for beta = 1.0: -0.0765403601815361\n"
     ]
    },
    {
     "data": {
      "text/plain": [
       "Text(0, 0.5, 'Density')"
      ]
     },
     "execution_count": 27,
     "metadata": {},
     "output_type": "execute_result"
    },
    {
     "data": {
      "image/png": "[encoded data removed]",
      "text/plain": [
       "<Figure size 800x400 with 1 Axes>"
      ]
     },
     "metadata": {},
     "output_type": "display_data"
    }
   ],
   "source": [
    "import matplotlib.pyplot as plt\n",
    "from scipy.stats import truncnorm\n",
    "import numpy as np\n",
    "\n",
    "# Parameters\n",
    "for beta in np.linspace(0, 1, 26):\n",
    "    # beta = 0.88  # Center of the distribution\n",
    "    lower, upper = 0, 1  # Bounds of the distribution\n",
    "    std = 0.1  # Standard deviation\n",
    "\n",
    "    # Calculate a and b parameters for truncnorm\n",
    "    a, b = (lower - beta) / std, (upper - beta) / std\n",
    "\n",
    "    # Number of random variables to generate\n",
    "    num_samples = 1000\n",
    "\n",
    "    # Generate random variables\n",
    "    random_vars = truncnorm.rvs(a, b, loc=beta, scale=std, size=num_samples)\n",
    "\n",
    "    print(f\"Difference for beta = {beta}: {sum(random_vars)/num_samples - beta}\")\n",
    "\n",
    "# Plotting the histogram of the random variables\n",
    "plt.figure(figsize=(8, 4))\n",
    "plt.hist(random_vars, bins=30, density=True, alpha=0.6, color='blue')\n",
    "plt.title('Histogram of Random Variables from Truncated Gaussian Distribution')\n",
    "plt.xlabel('Value')\n",
    "plt.ylabel('Density')\n",
    "# plt.show()"
   ]
  },
  {
   "cell_type": "code",
   "execution_count": 21,
   "metadata": {},
   "outputs": [
    {
     "name": "stdout",
     "output_type": "stream",
     "text": [
      "[1.23997034 1.56280198 1.3882561 ]\n",
      "[array([1.94232031, 2.86148598, 1.4194282 ]), array([1.42176317, 1.06246891, 1.19511929]), array([1.27459886, 2.71463811, 1.02148708]), array([3.81143836, 1.22934202, 1.19063662]), array([4.91532043, 1.12568704, 2.51764738])]\n",
      "[[ 9.38214234 12.23829785  9.7489648 ]\n",
      " [ 8.8615852  10.43928079  9.52465589]\n",
      " [ 8.71442089 12.09144998  9.35102369]\n",
      " [11.25126039 10.60615389  9.52017322]\n",
      " [12.35514246 10.50249891 10.84718399]]\n"
     ]
    },
    {
     "data": {
      "text/plain": [
       "array([[1, 2, 0],\n",
       "       [1, 2, 0],\n",
       "       [1, 2, 0],\n",
       "       [0, 1, 2],\n",
       "       [0, 2, 1]])"
      ]
     },
     "execution_count": 21,
     "metadata": {},
     "output_type": "execute_result"
    }
   ],
   "source": [
    "%reload_ext autoreload\n",
    "%autoreload 2\n",
    "from preferences import generate_corr_preferences\n",
    "from scipy.stats import pareto\n",
    "from scipy.stats import truncnorm\n",
    "\n",
    "generate_corr_preferences(5, 3, 6, 'pareto')"
   ]
  }
 ],
 "metadata": {
  "kernelspec": {
   "display_name": "Python 3",
   "language": "python",
   "name": "python3"
  },
  "language_info": {
   "codemirror_mode": {
    "name": "ipython",
    "version": 3
   },
   "file_extension": ".py",
   "mimetype": "text/x-python",
   "name": "python",
   "nbconvert_exporter": "python",
   "pygments_lexer": "ipython3",
   "version": "3.12.0"
  }
 },
 "nbformat": 4,
 "nbformat_minor": 2
}
